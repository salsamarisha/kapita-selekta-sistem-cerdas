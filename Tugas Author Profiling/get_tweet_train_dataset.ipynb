{
  "nbformat": 4,
  "nbformat_minor": 0,
  "metadata": {
    "colab": {
      "name": "get_tweet_train_dataset.ipynb",
      "version": "0.3.2",
      "provenance": [],
      "collapsed_sections": []
    },
    "kernelspec": {
      "name": "python3",
      "display_name": "Python 3"
    },
    "accelerator": "GPU"
  },
  "cells": [
    {
      "metadata": {
        "id": "WnyfqjjW_S2i",
        "colab_type": "code",
        "outputId": "064de4f5-f0e0-4e57-9b66-85c3fbc32d45",
        "colab": {
          "base_uri": "https://localhost:8080/",
          "height": 91
        }
      },
      "cell_type": "code",
      "source": [
        "\n",
        "from google.colab import drive\n",
        "drive.mount('/content/drive')\n",
        "%cd /content/drive/'Team Drives'/NLP/"
      ],
      "execution_count": 0,
      "outputs": [
        {
          "output_type": "stream",
          "text": [
            "Drive already mounted at /content/drive; to attempt to forcibly remount, call drive.mount(\"/content/drive\", force_remount=True).\n",
            "/content/drive/Team Drives/NLP\n"
          ],
          "name": "stdout"
        }
      ]
    },
    {
      "metadata": {
        "id": "aScXEBT9ABzH",
        "colab_type": "code",
        "outputId": "face80f8-5a71-461c-cddc-4041130c9bb6",
        "colab": {
          "base_uri": "https://localhost:8080/",
          "height": 99
        }
      },
      "cell_type": "code",
      "source": [
        "!ls"
      ],
      "execution_count": 0,
      "outputs": [
        {
          "output_type": "stream",
          "text": [
            " auto_profilling.ipynb\t  get_tweet_train_dataset.ipynb\n",
            " dataset\t\t 'link paper.txt'\n",
            " donwload_dataset.ipynb  'yg pakai data training aja.ipynb'\n"
          ],
          "name": "stdout"
        }
      ]
    },
    {
      "metadata": {
        "id": "kF9CT3C6A94h",
        "colab_type": "code",
        "outputId": "94eb493e-6f7f-45ac-eb16-d4d37f94a3bc",
        "colab": {
          "base_uri": "https://localhost:8080/",
          "height": 278
        }
      },
      "cell_type": "code",
      "source": [
        "!pip install tweepy\n",
        "import pandas as pd\n",
        "import numpy as np\n",
        "import collections\n",
        "import tweepy\n",
        "import time\n",
        "from xml.dom import minidom"
      ],
      "execution_count": 0,
      "outputs": [
        {
          "output_type": "stream",
          "text": [
            "Requirement already satisfied: tweepy in /usr/local/lib/python3.6/dist-packages (3.7.0)\n",
            "Requirement already satisfied: six>=1.10.0 in /usr/local/lib/python3.6/dist-packages (from tweepy) (1.11.0)\n",
            "Requirement already satisfied: PySocks>=1.5.7 in /usr/local/lib/python3.6/dist-packages (from tweepy) (1.6.8)\n",
            "Requirement already satisfied: requests-oauthlib>=0.7.0 in /usr/local/lib/python3.6/dist-packages (from tweepy) (1.0.0)\n",
            "Requirement already satisfied: requests>=2.11.1 in /usr/local/lib/python3.6/dist-packages (from tweepy) (2.18.4)\n",
            "Requirement already satisfied: oauthlib>=0.6.2 in /usr/local/lib/python3.6/dist-packages (from requests-oauthlib>=0.7.0->tweepy) (2.1.0)\n",
            "Requirement already satisfied: idna<2.7,>=2.5 in /usr/local/lib/python3.6/dist-packages (from requests>=2.11.1->tweepy) (2.6)\n",
            "Requirement already satisfied: chardet<3.1.0,>=3.0.2 in /usr/local/lib/python3.6/dist-packages (from requests>=2.11.1->tweepy) (3.0.4)\n",
            "Requirement already satisfied: certifi>=2017.4.17 in /usr/local/lib/python3.6/dist-packages (from requests>=2.11.1->tweepy) (2018.10.15)\n",
            "Requirement already satisfied: urllib3<1.23,>=1.21.1 in /usr/local/lib/python3.6/dist-packages (from requests>=2.11.1->tweepy) (1.22)\n"
          ],
          "name": "stdout"
        }
      ]
    },
    {
      "metadata": {
        "id": "0htNyPd_xS4J",
        "colab_type": "code",
        "colab": {}
      },
      "cell_type": "code",
      "source": [
        "class Twitter:\n",
        "  def __init__(self):\n",
        "    consumer_key = '3Dq5pY4ZjFeO5zcV3FjTjx9uK'\n",
        "    consumer_secret = 'KTqyYyKKQXPHYxFeSHZ4iN4Kgx6REgIt5kUdDMjL7OAYhixOhF'\n",
        "    access_token = '255021617-t389fy0HTsrWeMC0YcQw9jyRxsAEaecpAitW0TI6'\n",
        "    access_token_secret = 'NHlAKMQphnZ3sput3qkYD8OgxSYDcaZk7oaK01fd7fl7g'\n",
        "    self.__auth = tweepy.OAuthHandler(consumer_key, consumer_secret)\n",
        "    self.__auth.set_access_token(access_token, access_token_secret)\n",
        "    self.__api = tweepy.API(self.__auth, wait_on_rate_limit=True)\n",
        "    \n",
        "  def get_status(self, tweet_id):\n",
        "    try:\n",
        "      tweet = self.__api.get_status(tweet_id)\n",
        "      return tweet.text\n",
        "    except:\n",
        "      # For deleted status\n",
        "      return None\n",
        "\n",
        "twitter = Twitter()"
      ],
      "execution_count": 0,
      "outputs": []
    },
    {
      "metadata": {
        "id": "-YkK8N2ND-L-",
        "colab_type": "code",
        "colab": {}
      },
      "cell_type": "code",
      "source": [
        "# Read dataset\n",
        "train_truth_files = ['en', 'es', 'nl']\n",
        "# columns = ['author', 'status_id', 'status', 'gender', 'age']\n",
        "columns = ['status_id', 'status', 'gender', 'age']\n",
        "train_path = 'dataset/test/'\n",
        "train = collections.defaultdict()\n",
        "n_train = 2500\n",
        "for truth_file in train_truth_files:\n",
        "  data = collections.defaultdict(list)\n",
        "  counter_gender = collections.Counter()\n",
        "  \n",
        "  for line in open(train_path + truth_file + '/truth.txt'):\n",
        "    author, gender, age = line.strip().split(sep=':::')\n",
        "    if counter_gender['MALE'] == n_train and counter_gender['FEMALE'] == n_train:\n",
        "      break\n",
        "      \n",
        "    # Access .xml file\n",
        "    xml_file = minidom.parse(train_path + truth_file + '/' + author + '.xml')\n",
        "    docs = xml_file.getElementsByTagName('document')\n",
        "    for i, doc in enumerate(docs):\n",
        "      if counter_gender[gender] >= n_train:\n",
        "        break\n",
        "      status_id = doc.attributes['id'].value\n",
        "      status = twitter.get_status(status_id)\n",
        "      if status != None:\n",
        "        counter_gender[gender] += 1\n",
        "        # data['author'].append(author)\n",
        "        data['status_id'].append(status_id)\n",
        "        data['status'].append(status)\n",
        "        data['gender'].append(gender)\n",
        "        data['age'].append(age)\n",
        "        print(dict(counter_gender))\n",
        "        print(i, status_id, status, gender, age)\n",
        "\n",
        "  train[truth_file] = pd.DataFrame(data, columns=columns)\n",
        "  train[truth_file].to_csv(train_path + truth_file + '.csv')\n",
        "  print(train[truth_file].head())"
      ],
      "execution_count": 0,
      "outputs": []
    },
    {
      "metadata": {
        "id": "48uT2esPFonl",
        "colab_type": "code",
        "outputId": "77add431-3d6e-41a7-b723-3b77ca75def2",
        "colab": {
          "base_uri": "https://localhost:8080/",
          "height": 164
        }
      },
      "cell_type": "code",
      "source": [
        "train['en'].head()"
      ],
      "execution_count": 0,
      "outputs": [
        {
          "output_type": "error",
          "ename": "NameError",
          "evalue": "ignored",
          "traceback": [
            "\u001b[0;31m---------------------------------------------------------------------------\u001b[0m",
            "\u001b[0;31mNameError\u001b[0m                                 Traceback (most recent call last)",
            "\u001b[0;32m<ipython-input-3-6044a9a2f69c>\u001b[0m in \u001b[0;36m<module>\u001b[0;34m()\u001b[0m\n\u001b[0;32m----> 1\u001b[0;31m \u001b[0mtrain\u001b[0m\u001b[0;34m[\u001b[0m\u001b[0;34m'en'\u001b[0m\u001b[0;34m]\u001b[0m\u001b[0;34m.\u001b[0m\u001b[0mhead\u001b[0m\u001b[0;34m(\u001b[0m\u001b[0;34m)\u001b[0m\u001b[0;34m\u001b[0m\u001b[0;34m\u001b[0m\u001b[0m\n\u001b[0m",
            "\u001b[0;31mNameError\u001b[0m: name 'train' is not defined"
          ]
        }
      ]
    },
    {
      "metadata": {
        "id": "TphMBsf8Sjuf",
        "colab_type": "code",
        "outputId": "30e81b7e-e06a-46a6-cf98-aa56d1681824",
        "colab": {
          "base_uri": "https://localhost:8080/",
          "height": 204
        }
      },
      "cell_type": "code",
      "source": [
        "train['es'].head()"
      ],
      "execution_count": 0,
      "outputs": [
        {
          "output_type": "execute_result",
          "data": {
            "text/html": [
              "<div>\n",
              "<style scoped>\n",
              "    .dataframe tbody tr th:only-of-type {\n",
              "        vertical-align: middle;\n",
              "    }\n",
              "\n",
              "    .dataframe tbody tr th {\n",
              "        vertical-align: top;\n",
              "    }\n",
              "\n",
              "    .dataframe thead th {\n",
              "        text-align: right;\n",
              "    }\n",
              "</style>\n",
              "<table border=\"1\" class=\"dataframe\">\n",
              "  <thead>\n",
              "    <tr style=\"text-align: right;\">\n",
              "      <th></th>\n",
              "      <th>status_id</th>\n",
              "      <th>status</th>\n",
              "      <th>gender</th>\n",
              "      <th>age</th>\n",
              "    </tr>\n",
              "  </thead>\n",
              "  <tbody>\n",
              "    <tr>\n",
              "      <th>0</th>\n",
              "      <td>325923740657537024</td>\n",
              "      <td>Para ti ;) RT “@alfarmada: El mundo eres tú. Y...</td>\n",
              "      <td>FEMALE</td>\n",
              "      <td>35-49</td>\n",
              "    </tr>\n",
              "    <tr>\n",
              "      <th>1</th>\n",
              "      <td>325979138609528832</td>\n",
              "      <td>I wonder...\\nRegalos deliciosos.\\nhttp://t.co/...</td>\n",
              "      <td>FEMALE</td>\n",
              "      <td>35-49</td>\n",
              "    </tr>\n",
              "    <tr>\n",
              "      <th>2</th>\n",
              "      <td>326007809072324611</td>\n",
              "      <td>@Nirekatu @aidendemiguel ;)  sólo trabajamos e...</td>\n",
              "      <td>FEMALE</td>\n",
              "      <td>35-49</td>\n",
              "    </tr>\n",
              "    <tr>\n",
              "      <th>3</th>\n",
              "      <td>326009625101086720</td>\n",
              "      <td>!!! RT “@javierpascual: Un niño en Palestina: ...</td>\n",
              "      <td>FEMALE</td>\n",
              "      <td>35-49</td>\n",
              "    </tr>\n",
              "    <tr>\n",
              "      <th>4</th>\n",
              "      <td>326064698292322305</td>\n",
              "      <td>No puedo ser más fan de @cristina_pardo. Chica...</td>\n",
              "      <td>FEMALE</td>\n",
              "      <td>35-49</td>\n",
              "    </tr>\n",
              "  </tbody>\n",
              "</table>\n",
              "</div>"
            ],
            "text/plain": [
              "            status_id                                             status  \\\n",
              "0  325923740657537024  Para ti ;) RT “@alfarmada: El mundo eres tú. Y...   \n",
              "1  325979138609528832  I wonder...\\nRegalos deliciosos.\\nhttp://t.co/...   \n",
              "2  326007809072324611  @Nirekatu @aidendemiguel ;)  sólo trabajamos e...   \n",
              "3  326009625101086720  !!! RT “@javierpascual: Un niño en Palestina: ...   \n",
              "4  326064698292322305  No puedo ser más fan de @cristina_pardo. Chica...   \n",
              "\n",
              "   gender    age  \n",
              "0  FEMALE  35-49  \n",
              "1  FEMALE  35-49  \n",
              "2  FEMALE  35-49  \n",
              "3  FEMALE  35-49  \n",
              "4  FEMALE  35-49  "
            ]
          },
          "metadata": {
            "tags": []
          },
          "execution_count": 7
        }
      ]
    },
    {
      "metadata": {
        "id": "v0wGT2wGIdRO",
        "colab_type": "code",
        "outputId": "c25facb6-8ebf-44f5-9592-01bef327c47c",
        "colab": {
          "base_uri": "https://localhost:8080/",
          "height": 204
        }
      },
      "cell_type": "code",
      "source": [
        "train['nl'].head()"
      ],
      "execution_count": 0,
      "outputs": [
        {
          "output_type": "execute_result",
          "data": {
            "text/html": [
              "<div>\n",
              "<style scoped>\n",
              "    .dataframe tbody tr th:only-of-type {\n",
              "        vertical-align: middle;\n",
              "    }\n",
              "\n",
              "    .dataframe tbody tr th {\n",
              "        vertical-align: top;\n",
              "    }\n",
              "\n",
              "    .dataframe thead th {\n",
              "        text-align: right;\n",
              "    }\n",
              "</style>\n",
              "<table border=\"1\" class=\"dataframe\">\n",
              "  <thead>\n",
              "    <tr style=\"text-align: right;\">\n",
              "      <th></th>\n",
              "      <th>status_id</th>\n",
              "      <th>status</th>\n",
              "      <th>gender</th>\n",
              "      <th>age</th>\n",
              "    </tr>\n",
              "  </thead>\n",
              "  <tbody>\n",
              "    <tr>\n",
              "      <th>0</th>\n",
              "      <td>378147159758999553</td>\n",
              "      <td>@johanvgrinsven Geen idee, ik ben nog op mijn ...</td>\n",
              "      <td>FEMALE</td>\n",
              "      <td>XX-XX</td>\n",
              "    </tr>\n",
              "    <tr>\n",
              "      <th>1</th>\n",
              "      <td>378148390262931456</td>\n",
              "      <td>@johanvgrinsven Dat snap ik..zalm en frikandel...</td>\n",
              "      <td>FEMALE</td>\n",
              "      <td>XX-XX</td>\n",
              "    </tr>\n",
              "    <tr>\n",
              "      <th>2</th>\n",
              "      <td>378434763113373696</td>\n",
              "      <td>45 taarten in de #Allerhande...maak me gek #AH...</td>\n",
              "      <td>FEMALE</td>\n",
              "      <td>XX-XX</td>\n",
              "    </tr>\n",
              "    <tr>\n",
              "      <th>3</th>\n",
              "      <td>378778327622090752</td>\n",
              "      <td>Dat begint al goed...de 1e competitiewedstrijd...</td>\n",
              "      <td>FEMALE</td>\n",
              "      <td>XX-XX</td>\n",
              "    </tr>\n",
              "    <tr>\n",
              "      <th>4</th>\n",
              "      <td>379658720281903105</td>\n",
              "      <td>Dubbele #regenboog tijdens een nazomerse #onwe...</td>\n",
              "      <td>FEMALE</td>\n",
              "      <td>XX-XX</td>\n",
              "    </tr>\n",
              "  </tbody>\n",
              "</table>\n",
              "</div>"
            ],
            "text/plain": [
              "            status_id                                             status  \\\n",
              "0  378147159758999553  @johanvgrinsven Geen idee, ik ben nog op mijn ...   \n",
              "1  378148390262931456  @johanvgrinsven Dat snap ik..zalm en frikandel...   \n",
              "2  378434763113373696  45 taarten in de #Allerhande...maak me gek #AH...   \n",
              "3  378778327622090752  Dat begint al goed...de 1e competitiewedstrijd...   \n",
              "4  379658720281903105  Dubbele #regenboog tijdens een nazomerse #onwe...   \n",
              "\n",
              "   gender    age  \n",
              "0  FEMALE  XX-XX  \n",
              "1  FEMALE  XX-XX  \n",
              "2  FEMALE  XX-XX  \n",
              "3  FEMALE  XX-XX  \n",
              "4  FEMALE  XX-XX  "
            ]
          },
          "metadata": {
            "tags": []
          },
          "execution_count": 8
        }
      ]
    },
    {
      "metadata": {
        "id": "GfGZi7PaIgbl",
        "colab_type": "code",
        "colab": {}
      },
      "cell_type": "code",
      "source": [
        ""
      ],
      "execution_count": 0,
      "outputs": []
    }
  ]
}