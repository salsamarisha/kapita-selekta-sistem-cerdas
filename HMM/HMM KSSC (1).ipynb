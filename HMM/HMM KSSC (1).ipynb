{
 "cells": [
  {
   "cell_type": "code",
   "execution_count": 2,
   "metadata": {},
   "outputs": [],
   "source": [
    "import Bio"
   ]
  },
  {
   "cell_type": "code",
   "execution_count": 44,
   "metadata": {},
   "outputs": [],
   "source": [
    "from Bio import Alphabet\n",
    "from Bio.Seq import MutableSeq\n",
    "from Bio.Seq import Seq\n",
    "\n",
    "from Bio.HMM import MarkovModel\n",
    "from Bio.HMM import Trainer\n",
    "from Bio.HMM import Utilities"
   ]
  },
  {
   "cell_type": "code",
   "execution_count": 45,
   "metadata": {},
   "outputs": [
    {
     "name": "stdout",
     "output_type": "stream",
     "text": [
      "1.72\n"
     ]
    }
   ],
   "source": [
    "print(Bio.__version__)"
   ]
  },
  {
   "cell_type": "code",
   "execution_count": 46,
   "metadata": {},
   "outputs": [],
   "source": [
    "from Bio.Seq import Seq"
   ]
  },
  {
   "cell_type": "code",
   "execution_count": 47,
   "metadata": {},
   "outputs": [],
   "source": [
    "import Bio.HMM.MarkovModel as hmm"
   ]
  },
  {
   "cell_type": "code",
   "execution_count": 49,
   "metadata": {},
   "outputs": [],
   "source": [
    "class huruf(Alphabet.Alphabet):\n",
    "    letters = ['A','T','C','G']\n",
    "\n",
    "class tipe(Alphabet.Alphabet):\n",
    "    letters = ['M','I','D']"
   ]
  },
  {
   "cell_type": "code",
   "execution_count": 50,
   "metadata": {},
   "outputs": [],
   "source": [
    "mm_builder = hmm.MarkovModelBuilder(DiceTypeAlphabet(),DiceRollAlphabet())"
   ]
  },
  {
   "cell_type": "code",
   "execution_count": 51,
   "metadata": {},
   "outputs": [],
   "source": [
    "mm_builder.allow_all_transitions()\n",
    "mm_builder.set_random_probabilities()"
   ]
  },
  {
   "cell_type": "code",
   "execution_count": 52,
   "metadata": {},
   "outputs": [
    {
     "name": "stdout",
     "output_type": "stream",
     "text": [
      "<Bio.HMM.MarkovModel.MarkovModelBuilder object at 0x00000246C431C390>\n"
     ]
    }
   ],
   "source": [
    "print(mm_builder)"
   ]
  },
  {
   "cell_type": "code",
   "execution_count": 53,
   "metadata": {},
   "outputs": [
    {
     "data": {
      "text/plain": [
       "DiceTypeAlphabet()"
      ]
     },
     "execution_count": 53,
     "metadata": {},
     "output_type": "execute_result"
    }
   ],
   "source": [
    "DiceTypeAlphabet()"
   ]
  },
  {
   "cell_type": "code",
   "execution_count": 12,
   "metadata": {},
   "outputs": [],
   "source": [
    "mm_builder.set_emission_score('I', 'A', .1)\n",
    "mm_builder.set_emission_score('I', 'T', .1)\n",
    "mm_builder.set_emission_score('I', 'C', .1)\n",
    "mm_builder.set_emission_score('I', 'G', .1)\n",
    "mm_builder.set_emission_score('D', 'A', .1)\n",
    "mm_builder.set_emission_score('D', 'T', .1)\n",
    "mm_builder.set_emission_score('D', 'C', .1)\n",
    "mm_builder.set_emission_score('D', 'G', .1)\n",
    "mm_builder.set_emission_score('M', 'A', .8)\n",
    "mm_builder.set_emission_score('M', 'T', .8)\n",
    "mm_builder.set_emission_score('M', 'C', .8)\n",
    "mm_builder.set_emission_score('M', 'G', .8)"
   ]
  },
  {
   "cell_type": "code",
   "execution_count": 54,
   "metadata": {},
   "outputs": [],
   "source": [
    "standard_mm = mm_builder.get_markov_model()"
   ]
  },
  {
   "cell_type": "code",
   "execution_count": 55,
   "metadata": {},
   "outputs": [],
   "source": [
    "def _loaded_dice_roll(chance_num, cur_state):\n",
    "    \"\"\"Generate a loaded dice roll based on the state and a random number\n",
    "    \"\"\"\n",
    "\n",
    "    if cur_state == 'M':\n",
    "        if chance_num <= (float(1) / float(6)):\n",
    "            return 'A'\n",
    "        elif chance_num <= (float(2) / float(6)):\n",
    "            return 'T'\n",
    "        elif chance_num <= (float(3) / float(6)):\n",
    "            return 'C'\n",
    "        else:\n",
    "            return 'G'\n",
    "    elif cur_state == 'I':\n",
    "        if chance_num <= (float(1) / float(6)):\n",
    "            return 'A'\n",
    "        elif chance_num <= (float(2) / float(6)):\n",
    "            return 'T'\n",
    "        elif chance_num <= (float(3) / float(6)):\n",
    "            return 'C'\n",
    "        else:\n",
    "            return 'G'\n",
    "    elif cur_state=='D':\n",
    "        if chance_num <= (float(1) / float(6)):\n",
    "            return 'A'\n",
    "        elif chance_num <= (float(2) / float(6)):\n",
    "            return 'T'\n",
    "        elif chance_num <= (float(3) / float(6)):\n",
    "            return 'C'\n",
    "        else:\n",
    "            return 'G'    \n",
    "    else:\n",
    "        raise ValueError(\"Unexpected cur_state %s\" % cur_state)\n",
    "    '''        \n",
    "    if cur_state == 'A':\n",
    "        if chance_num <= .8:\n",
    "            return 'M'\n",
    "        elif chance_num <= .2:\n",
    "            return 'I'\n",
    "        else:\n",
    "            return 'D'\n",
    "    if cur_state == 'T':\n",
    "        if chance_num <= .8:\n",
    "            return 'M'\n",
    "        elif chance_num <= .2:\n",
    "            return 'I'\n",
    "        else:\n",
    "            return 'D'\n",
    "    if cur_state == 'C':\n",
    "        if chance_num <= .8:\n",
    "            return 'M'\n",
    "        elif chance_num <= .2:\n",
    "            return 'I'\n",
    "        else:\n",
    "            return 'D'\n",
    "    if cur_state == 'G':\n",
    "        if chance_num <= .8:\n",
    "            return 'M'\n",
    "        elif chance_num <= .2:\n",
    "            return 'I'\n",
    "        else:\n",
    "            return 'D'\n",
    "    else:\n",
    "        raise ValueError(\"Unexpected cur_state %s\" % cur_state)\n",
    "    '''"
   ]
  },
  {
   "cell_type": "code",
   "execution_count": 56,
   "metadata": {},
   "outputs": [],
   "source": [
    "import random\n",
    "def generate_rolls(num_rolls):\n",
    "    cur_state = 'M'\n",
    "    roll_seq = MutableSeq('', huruf())\n",
    "    state_seq = MutableSeq('', tipe())\n",
    "\n",
    "    # generate the sequence\n",
    "    for roll in range(num_rolls):\n",
    "        state_seq.append(cur_state)\n",
    "        \n",
    "        chance_num = random.random()\n",
    "\n",
    "        new_roll = _loaded_dice_roll(chance_num, cur_state)\n",
    "        roll_seq.append(new_roll)\n",
    "\n",
    "        chance_num = random.random()\n",
    "        if cur_state == 'A':\n",
    "            if chance_num <= .8:\n",
    "                cur_state = 'A'\n",
    "        elif cur_state == 'A':\n",
    "            if chance_num <= .5:\n",
    "                cur_state = 'T'\n",
    "        elif cur_state == 'A':\n",
    "            if chance_num <= .4:\n",
    "                cur_state = 'C'\n",
    "        elif cur_state == 'A':\n",
    "            if chance_num <= .3:\n",
    "                cur_state = 'G'\n",
    "        elif cur_state == 'T':\n",
    "            if chance_num <= .8:\n",
    "                cur_state = 'T'\n",
    "        elif cur_state == 'T':\n",
    "            if chance_num <= .5:\n",
    "                cur_state = 'A'\n",
    "        elif cur_state == 'T':\n",
    "            if chance_num <= .4:\n",
    "                cur_state = 'C'\n",
    "        elif cur_state == 'T':\n",
    "            if chance_num <= .3:\n",
    "                cur_state = 'G'\n",
    "        elif cur_state == 'C':\n",
    "            if chance_num <= .8:\n",
    "                cur_state = 'C'\n",
    "        elif cur_state == 'C':\n",
    "            if chance_num <= .5:\n",
    "                cur_state = 'A'\n",
    "        elif cur_state == 'C':\n",
    "            if chance_num <= .4:\n",
    "                cur_state = 'T'\n",
    "        elif cur_state == 'C':\n",
    "            if chance_num <= .3:\n",
    "                cur_state = 'G'\n",
    "        elif cur_state == 'G':\n",
    "            if chance_num <= .8:\n",
    "                cur_state = 'G'\n",
    "        elif cur_state == 'G':\n",
    "            if chance_num <= .5:\n",
    "                cur_state = 'A'\n",
    "        elif cur_state == 'G':\n",
    "            if chance_num <= .4:\n",
    "                cur_state = 'C'\n",
    "        elif cur_state == 'G':\n",
    "            if chance_num <= .3:\n",
    "                cur_state = 'T'\n",
    "\n",
    "    return roll_seq.toseq(), state_seq.toseq()\n"
   ]
  },
  {
   "cell_type": "code",
   "execution_count": 57,
   "metadata": {},
   "outputs": [],
   "source": [
    "baum_welch_mm = mm_builder.get_markov_model()\n",
    "standard_mm = mm_builder.get_markov_model()\n",
    "\n",
    "rolls, states = generate_rolls(10)"
   ]
  },
  {
   "cell_type": "code",
   "execution_count": 60,
   "metadata": {
    "scrolled": false
   },
   "outputs": [
    {
     "name": "stdout",
     "output_type": "stream",
     "text": [
      "Prediction probability: -487.006010\n",
      "Emissions       GGGCTGGGGCGATGGCGAAGCGGATTGGGGGATGCGGGGTGGGGATTTGTGTGGGGGCT\n",
      "Real State      MMMMMMMMMMMMMMMMMMMMMMMMMMMMMMMMMMMMMMMMMMMMMMMMMMMMMMMMMMM\n",
      "Predicted State MMMMMMMMMMMIIMMMMIIMMMMIIIMMMMMIIMMMMMMMMMMMIIIIDIDIMMMMMMM\n",
      "\n",
      "Emissions       CGGGGGTGTCTGCGCCAGGGGGGTGTTTCGACTGGGAGGGGGAGGGTATGGGTGTGACG\n",
      "Real State      MMMMMMMMMMMMMMMMMMMMMMMMMMMMMMMMMMMMMMMMMMMMMMMMMMMMMMMMMMM\n",
      "Predicted State MMMMMMIDIIIMMMMMDMMMMMMIDIIIMMIIIMMMDMMMMMDMMMIIIMMMIDIDIMM\n",
      "\n",
      "Emissions       CATAATGAGTGGGGCAGTGGACGGGCTAGAGGAACGCGGGAGGGGGGAGGATGGGTCCG\n",
      "Real State      MMMMMMMMMMMMMMMMMMMMMMMMMMMMMMMMMMMMMMMMMMMMMMMMMMMMMMMMMMM\n",
      "Predicted State MIIIIIDIDIMMMMMDDIMMDMMMMMIIDIMMIIMMMMMMDMMMMMMDMMIIMMMMMMM\n",
      "\n",
      "Emissions       GACTGCGGCTTGGTGGAGGGGGTGTCCCGGACTGCCGGCCGCAGAGTAGCGGGGGGCGG\n",
      "Real State      MMMMMMMMMMMMMMMMMMMMMMMMMMMMMMMMMMMMMMMMMMMMMMMMMMMMMMMMMMM\n",
      "Predicted State MIIIMMMMMIIMMMMMDMMMMMIDIMMMMMIIIMMMMMMMMMDDIDIIMMMMMMMMMMM\n",
      "\n",
      "Emissions       TAATGCGGCGAGTCGGTGTAGGAGGTGGTAGGACGGGGCAAGATTGCCCGAGCGAAGGC\n",
      "Real State      MMMMMMMMMMMMMMMMMMMMMMMMMMMMMMMMMMMMMMMMMMMMMMMMMMMMMMMMMMM\n",
      "Predicted State IIIIMMMMMMDDIMMMIDIIMMDMMMMMIIMMDMMMMMMIIDIIIMMMMMDMMMIIMMM\n",
      "\n",
      "Emissions       AGGGA\n",
      "Real State      MMMMM\n",
      "Predicted State DMMMI\n",
      "\n"
     ]
    }
   ],
   "source": [
    "VERBOSE = 0\n",
    "\n",
    "def stop_training(log_likelihood_change, num_iterations):\n",
    "    \"\"\"Tell the training model when to stop.\n",
    "    \"\"\"\n",
    "    if VERBOSE:\n",
    "        print(\"ll change: %f\" % log_likelihood_change)\n",
    "    if log_likelihood_change < 0.01:\n",
    "        return 1\n",
    "    elif num_iterations >= 10:\n",
    "        return 1\n",
    "    else:\n",
    "        return 0\n",
    "\n",
    "known_training_seq = Trainer.TrainingSequence(rolls, states)\n",
    "\n",
    "trainer = Trainer.KnownStateTrainer(standard_mm)\n",
    "trained_mm = trainer.train([known_training_seq])\n",
    "\n",
    "if VERBOSE:\n",
    "    print(trained_mm.transition_prob)\n",
    "    print(trained_mm.emission_prob)\n",
    "\n",
    "test_rolls, test_states = generate_rolls(300)\n",
    "\n",
    "predicted_states, prob = trained_mm.viterbi(test_rolls, tipe())\n",
    "if VERBOSE:\n",
    "    print(\"Probabilitas: %f\" % prob)\n",
    "    Utilities.pretty_print_prediction(test_rolls, test_states, predicted_states)\n",
    "\n",
    "training_seq = Trainer.TrainingSequence(rolls, Seq(\"\", tipe()))\n",
    "\n",
    "trainer = Trainer.BaumWelchTrainer(baum_welch_mm)\n",
    "trained_mm = trainer.train([training_seq], stop_training)\n",
    "\n",
    "if VERBOSE:\n",
    "    print(trained_mm.transition_prob)\n",
    "    print(trained_mm.emission_prob)\n",
    "\n",
    "test_rolls, test_states = generate_rolls(300)\n",
    "\n",
    "predicted_states, prob = trained_mm.viterbi(test_rolls, tipe())\n",
    "\n",
    "print(\"Prediction probability: %f\" % prob)\n",
    "Utilities.pretty_print_prediction(test_rolls, test_states, predicted_states)"
   ]
  },
  {
   "cell_type": "code",
   "execution_count": null,
   "metadata": {},
   "outputs": [],
   "source": []
  },
  {
   "cell_type": "code",
   "execution_count": null,
   "metadata": {},
   "outputs": [],
   "source": []
  }
 ],
 "metadata": {
  "kernelspec": {
   "display_name": "Python 3",
   "language": "python",
   "name": "python3"
  },
  "language_info": {
   "codemirror_mode": {
    "name": "ipython",
    "version": 3
   },
   "file_extension": ".py",
   "mimetype": "text/x-python",
   "name": "python",
   "nbconvert_exporter": "python",
   "pygments_lexer": "ipython3",
   "version": "3.6.4"
  }
 },
 "nbformat": 4,
 "nbformat_minor": 2
}
